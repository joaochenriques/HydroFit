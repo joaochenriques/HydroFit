{
  "nbformat": 4,
  "nbformat_minor": 0,
  "metadata": {
    "colab": {
      "provenance": [],
      "authorship_tag": "ABX9TyO8THhAtnv+hiQWCkzdYA8N",
      "include_colab_link": true
    },
    "kernelspec": {
      "name": "python3",
      "display_name": "Python 3"
    },
    "language_info": {
      "name": "python"
    }
  },
  "cells": [
    {
      "cell_type": "markdown",
      "metadata": {
        "id": "view-in-github",
        "colab_type": "text"
      },
      "source": [
        "<a href=\"https://colab.research.google.com/github/joaochenriques/HydroFit/blob/main/Fit_V01.ipynb\" target=\"_parent\"><img src=\"https://colab.research.google.com/assets/colab-badge.svg\" alt=\"Open In Colab\"/></a>"
      ]
    },
    {
      "cell_type": "code",
      "execution_count": 1,
      "metadata": {
        "id": "cag6VUwq10DM"
      },
      "outputs": [],
      "source": [
        "import matplotlib.pyplot as mpl\n",
        "import numpy as np\n",
        "from scipy.optimize import curve_fit\n",
        "\n",
        "import pathlib, subprocess, os\n",
        "import pandas as pd\n",
        "\n",
        "def cmdcall( cmd, verbose=True ):\n",
        "    output = subprocess.getoutput( cmd )\n",
        "    if verbose: print(output)"
      ]
    },
    {
      "cell_type": "code",
      "source": [
        "if not pathlib.Path(\"mpl_utils.py\").exists():\n",
        "    cmdcall( \"curl -O https://raw.githubusercontent.com/joaochenriques/ipynb_libs/main/mpl_utils.py\" )\n",
        "\n",
        "import mpl_utils as mut\n",
        "mut.config_plots()\n",
        "\n",
        "from matplotlib_inline.backend_inline import set_matplotlib_formats\n",
        "set_matplotlib_formats('svg')\n",
        "\n",
        "from IPython.display import display, clear_output"
      ],
      "metadata": {
        "colab": {
          "base_uri": "https://localhost:8080/"
        },
        "id": "3weWsZZ6H4_T",
        "outputId": "508bee6e-bd13-4065-b09a-91145b063f6e"
      },
      "execution_count": 2,
      "outputs": [
        {
          "output_type": "stream",
          "name": "stdout",
          "text": [
            "  % Total    % Received % Xferd  Average Speed   Time    Time     Time  Current\n",
            "                                 Dload  Upload   Total   Spent    Left  Speed\n",
            "\n",
            "  0     0    0     0    0     0      0      0 --:--:-- --:--:-- --:--:--     0\n",
            "100  3921  100  3921    0     0  10007      0 --:--:-- --:--:-- --:--:-- 10028\n"
          ]
        }
      ]
    },
    {
      "cell_type": "code",
      "source": [
        "def normalize( x ):\n",
        "    m = np.max(x)\n",
        "    return x / m, m\n",
        "\n",
        "def characteristic_length( x ):\n",
        "    return normalize( 1.0 / np.sqrt( x ) )[0]\n",
        "\n",
        "def fit_func( x, ϕ0, α, p ):\n",
        "    return ϕ0 + α * x**p"
      ],
      "metadata": {
        "id": "uyPtWUi3lg9X"
      },
      "execution_count": 3,
      "outputs": []
    },
    {
      "cell_type": "code",
      "source": [
        "cmdcall( 'curl -O https://raw.githubusercontent.com/joaochenriques/HydroFit/main/DeltaWind.zip' )\n",
        "cmdcall( 'unzip DeltaWind.zip' )"
      ],
      "metadata": {
        "id": "byvHZHRnpGOg",
        "outputId": "38a6995c-2819-4cdd-e8cb-e5cf9e58c7c5",
        "colab": {
          "base_uri": "https://localhost:8080/"
        }
      },
      "execution_count": 4,
      "outputs": [
        {
          "output_type": "stream",
          "name": "stdout",
          "text": [
            "  % Total    % Received % Xferd  Average Speed   Time    Time     Time  Current\n",
            "                                 Dload  Upload   Total   Spent    Left  Speed\n",
            "\n",
            "  0     0    0     0    0     0      0      0 --:--:-- --:--:-- --:--:--     0\n",
            "  0     0    0     0    0     0      0      0 --:--:-- --:--:-- --:--:--     0\n",
            "100  4318  100  4318    0     0  13820      0 --:--:-- --:--:-- --:--:-- 13795\n",
            "Archive:  DeltaWind.zip\n",
            "  inflating: DeltaWind HAMS_Ainf(3,3).csv  \n",
            "  inflating: DeltaWind HAMS_B(3,3,1.00 rad_s).csv  \n",
            "  inflating: DeltaWind HAMS_C(3,3).csv  \n",
            "  inflating: DeltaWind HAMS_F(3,0deg,1.00 rad_s).csv  \n",
            "  inflating: DeltaWind WAMIT_Ainf(3,3).csv  \n",
            "  inflating: DeltaWind WAMIT_B(3,3,1.00 rad_s).csv  \n",
            "  inflating: DeltaWind WAMIT_C(3,3).csv  \n",
            "  inflating: DeltaWind WAMIT_F(3,0deg,1.00 rad_s).csv  \n"
          ]
        }
      ]
    },
    {
      "cell_type": "code",
      "source": [
        "df = pd.read_csv( 'DeltaWind HAMS_Ainf(3,3).csv', skiprows=[0,1], header=None, sep=';' )\n",
        "df"
      ],
      "metadata": {
        "id": "MSemY5ywrYwa",
        "outputId": "4562d1aa-a44c-4fbd-b4af-c11d85ab9c28",
        "colab": {
          "base_uri": "https://localhost:8080/",
          "height": 300
        }
      },
      "execution_count": 12,
      "outputs": [
        {
          "output_type": "execute_result",
          "data": {
            "text/plain": [
              "       0            1         2        3             4         5        6  \\\n",
              "0    855  27775378.25  8.183384   2287.0  2.539913e+07  1.071952    855.0   \n",
              "1   1105  27657739.00  7.725186   3258.0  2.592752e+07  0.986107  14759.0   \n",
              "2   1524  27317603.00  6.400377   5944.0  2.564576e+07  0.111346      NaN   \n",
              "3   2287  26845590.50  4.561918   8719.0  2.553079e+07  0.559138      NaN   \n",
              "4   3258  26633231.00  3.734791  14759.0  2.567435e+07  0.000000      NaN   \n",
              "5   5944  26198128.75  2.040094      NaN           NaN       NaN      NaN   \n",
              "6   8719  26033780.25  1.399967      NaN           NaN       NaN      NaN   \n",
              "7  14759  25885391.00  0.822000      NaN           NaN       NaN      NaN   \n",
              "\n",
              "              7  \n",
              "0  2.567435e+07  \n",
              "1  2.567435e+07  \n",
              "2           NaN  \n",
              "3           NaN  \n",
              "4           NaN  \n",
              "5           NaN  \n",
              "6           NaN  \n",
              "7           NaN  "
            ],
            "text/html": [
              "\n",
              "\n",
              "  <div id=\"df-d86687ef-24d6-4844-9a07-eda7e113a810\">\n",
              "    <div class=\"colab-df-container\">\n",
              "      <div>\n",
              "<style scoped>\n",
              "    .dataframe tbody tr th:only-of-type {\n",
              "        vertical-align: middle;\n",
              "    }\n",
              "\n",
              "    .dataframe tbody tr th {\n",
              "        vertical-align: top;\n",
              "    }\n",
              "\n",
              "    .dataframe thead th {\n",
              "        text-align: right;\n",
              "    }\n",
              "</style>\n",
              "<table border=\"1\" class=\"dataframe\">\n",
              "  <thead>\n",
              "    <tr style=\"text-align: right;\">\n",
              "      <th></th>\n",
              "      <th>0</th>\n",
              "      <th>1</th>\n",
              "      <th>2</th>\n",
              "      <th>3</th>\n",
              "      <th>4</th>\n",
              "      <th>5</th>\n",
              "      <th>6</th>\n",
              "      <th>7</th>\n",
              "    </tr>\n",
              "  </thead>\n",
              "  <tbody>\n",
              "    <tr>\n",
              "      <th>0</th>\n",
              "      <td>855</td>\n",
              "      <td>27775378.25</td>\n",
              "      <td>8.183384</td>\n",
              "      <td>2287.0</td>\n",
              "      <td>2.539913e+07</td>\n",
              "      <td>1.071952</td>\n",
              "      <td>855.0</td>\n",
              "      <td>2.567435e+07</td>\n",
              "    </tr>\n",
              "    <tr>\n",
              "      <th>1</th>\n",
              "      <td>1105</td>\n",
              "      <td>27657739.00</td>\n",
              "      <td>7.725186</td>\n",
              "      <td>3258.0</td>\n",
              "      <td>2.592752e+07</td>\n",
              "      <td>0.986107</td>\n",
              "      <td>14759.0</td>\n",
              "      <td>2.567435e+07</td>\n",
              "    </tr>\n",
              "    <tr>\n",
              "      <th>2</th>\n",
              "      <td>1524</td>\n",
              "      <td>27317603.00</td>\n",
              "      <td>6.400377</td>\n",
              "      <td>5944.0</td>\n",
              "      <td>2.564576e+07</td>\n",
              "      <td>0.111346</td>\n",
              "      <td>NaN</td>\n",
              "      <td>NaN</td>\n",
              "    </tr>\n",
              "    <tr>\n",
              "      <th>3</th>\n",
              "      <td>2287</td>\n",
              "      <td>26845590.50</td>\n",
              "      <td>4.561918</td>\n",
              "      <td>8719.0</td>\n",
              "      <td>2.553079e+07</td>\n",
              "      <td>0.559138</td>\n",
              "      <td>NaN</td>\n",
              "      <td>NaN</td>\n",
              "    </tr>\n",
              "    <tr>\n",
              "      <th>4</th>\n",
              "      <td>3258</td>\n",
              "      <td>26633231.00</td>\n",
              "      <td>3.734791</td>\n",
              "      <td>14759.0</td>\n",
              "      <td>2.567435e+07</td>\n",
              "      <td>0.000000</td>\n",
              "      <td>NaN</td>\n",
              "      <td>NaN</td>\n",
              "    </tr>\n",
              "    <tr>\n",
              "      <th>5</th>\n",
              "      <td>5944</td>\n",
              "      <td>26198128.75</td>\n",
              "      <td>2.040094</td>\n",
              "      <td>NaN</td>\n",
              "      <td>NaN</td>\n",
              "      <td>NaN</td>\n",
              "      <td>NaN</td>\n",
              "      <td>NaN</td>\n",
              "    </tr>\n",
              "    <tr>\n",
              "      <th>6</th>\n",
              "      <td>8719</td>\n",
              "      <td>26033780.25</td>\n",
              "      <td>1.399967</td>\n",
              "      <td>NaN</td>\n",
              "      <td>NaN</td>\n",
              "      <td>NaN</td>\n",
              "      <td>NaN</td>\n",
              "      <td>NaN</td>\n",
              "    </tr>\n",
              "    <tr>\n",
              "      <th>7</th>\n",
              "      <td>14759</td>\n",
              "      <td>25885391.00</td>\n",
              "      <td>0.822000</td>\n",
              "      <td>NaN</td>\n",
              "      <td>NaN</td>\n",
              "      <td>NaN</td>\n",
              "      <td>NaN</td>\n",
              "      <td>NaN</td>\n",
              "    </tr>\n",
              "  </tbody>\n",
              "</table>\n",
              "</div>\n",
              "      <button class=\"colab-df-convert\" onclick=\"convertToInteractive('df-d86687ef-24d6-4844-9a07-eda7e113a810')\"\n",
              "              title=\"Convert this dataframe to an interactive table.\"\n",
              "              style=\"display:none;\">\n",
              "\n",
              "  <svg xmlns=\"http://www.w3.org/2000/svg\" height=\"24px\"viewBox=\"0 0 24 24\"\n",
              "       width=\"24px\">\n",
              "    <path d=\"M0 0h24v24H0V0z\" fill=\"none\"/>\n",
              "    <path d=\"M18.56 5.44l.94 2.06.94-2.06 2.06-.94-2.06-.94-.94-2.06-.94 2.06-2.06.94zm-11 1L8.5 8.5l.94-2.06 2.06-.94-2.06-.94L8.5 2.5l-.94 2.06-2.06.94zm10 10l.94 2.06.94-2.06 2.06-.94-2.06-.94-.94-2.06-.94 2.06-2.06.94z\"/><path d=\"M17.41 7.96l-1.37-1.37c-.4-.4-.92-.59-1.43-.59-.52 0-1.04.2-1.43.59L10.3 9.45l-7.72 7.72c-.78.78-.78 2.05 0 2.83L4 21.41c.39.39.9.59 1.41.59.51 0 1.02-.2 1.41-.59l7.78-7.78 2.81-2.81c.8-.78.8-2.07 0-2.86zM5.41 20L4 18.59l7.72-7.72 1.47 1.35L5.41 20z\"/>\n",
              "  </svg>\n",
              "      </button>\n",
              "\n",
              "\n",
              "\n",
              "    <div id=\"df-28e20509-0f4a-4067-8863-7f603592c0c0\">\n",
              "      <button class=\"colab-df-quickchart\" onclick=\"quickchart('df-28e20509-0f4a-4067-8863-7f603592c0c0')\"\n",
              "              title=\"Suggest charts.\"\n",
              "              style=\"display:none;\">\n",
              "\n",
              "<svg xmlns=\"http://www.w3.org/2000/svg\" height=\"24px\"viewBox=\"0 0 24 24\"\n",
              "     width=\"24px\">\n",
              "    <g>\n",
              "        <path d=\"M19 3H5c-1.1 0-2 .9-2 2v14c0 1.1.9 2 2 2h14c1.1 0 2-.9 2-2V5c0-1.1-.9-2-2-2zM9 17H7v-7h2v7zm4 0h-2V7h2v10zm4 0h-2v-4h2v4z\"/>\n",
              "    </g>\n",
              "</svg>\n",
              "      </button>\n",
              "    </div>\n",
              "\n",
              "<style>\n",
              "  .colab-df-quickchart {\n",
              "    background-color: #E8F0FE;\n",
              "    border: none;\n",
              "    border-radius: 50%;\n",
              "    cursor: pointer;\n",
              "    display: none;\n",
              "    fill: #1967D2;\n",
              "    height: 32px;\n",
              "    padding: 0 0 0 0;\n",
              "    width: 32px;\n",
              "  }\n",
              "\n",
              "  .colab-df-quickchart:hover {\n",
              "    background-color: #E2EBFA;\n",
              "    box-shadow: 0px 1px 2px rgba(60, 64, 67, 0.3), 0px 1px 3px 1px rgba(60, 64, 67, 0.15);\n",
              "    fill: #174EA6;\n",
              "  }\n",
              "\n",
              "  [theme=dark] .colab-df-quickchart {\n",
              "    background-color: #3B4455;\n",
              "    fill: #D2E3FC;\n",
              "  }\n",
              "\n",
              "  [theme=dark] .colab-df-quickchart:hover {\n",
              "    background-color: #434B5C;\n",
              "    box-shadow: 0px 1px 3px 1px rgba(0, 0, 0, 0.15);\n",
              "    filter: drop-shadow(0px 1px 2px rgba(0, 0, 0, 0.3));\n",
              "    fill: #FFFFFF;\n",
              "  }\n",
              "</style>\n",
              "\n",
              "    <script>\n",
              "      async function quickchart(key) {\n",
              "        const containerElement = document.querySelector('#' + key);\n",
              "        const charts = await google.colab.kernel.invokeFunction(\n",
              "            'suggestCharts', [key], {});\n",
              "      }\n",
              "    </script>\n",
              "\n",
              "      <script>\n",
              "\n",
              "function displayQuickchartButton(domScope) {\n",
              "  let quickchartButtonEl =\n",
              "    domScope.querySelector('#df-28e20509-0f4a-4067-8863-7f603592c0c0 button.colab-df-quickchart');\n",
              "  quickchartButtonEl.style.display =\n",
              "    google.colab.kernel.accessAllowed ? 'block' : 'none';\n",
              "}\n",
              "\n",
              "        displayQuickchartButton(document);\n",
              "      </script>\n",
              "      <style>\n",
              "    .colab-df-container {\n",
              "      display:flex;\n",
              "      flex-wrap:wrap;\n",
              "      gap: 12px;\n",
              "    }\n",
              "\n",
              "    .colab-df-convert {\n",
              "      background-color: #E8F0FE;\n",
              "      border: none;\n",
              "      border-radius: 50%;\n",
              "      cursor: pointer;\n",
              "      display: none;\n",
              "      fill: #1967D2;\n",
              "      height: 32px;\n",
              "      padding: 0 0 0 0;\n",
              "      width: 32px;\n",
              "    }\n",
              "\n",
              "    .colab-df-convert:hover {\n",
              "      background-color: #E2EBFA;\n",
              "      box-shadow: 0px 1px 2px rgba(60, 64, 67, 0.3), 0px 1px 3px 1px rgba(60, 64, 67, 0.15);\n",
              "      fill: #174EA6;\n",
              "    }\n",
              "\n",
              "    [theme=dark] .colab-df-convert {\n",
              "      background-color: #3B4455;\n",
              "      fill: #D2E3FC;\n",
              "    }\n",
              "\n",
              "    [theme=dark] .colab-df-convert:hover {\n",
              "      background-color: #434B5C;\n",
              "      box-shadow: 0px 1px 3px 1px rgba(0, 0, 0, 0.15);\n",
              "      filter: drop-shadow(0px 1px 2px rgba(0, 0, 0, 0.3));\n",
              "      fill: #FFFFFF;\n",
              "    }\n",
              "  </style>\n",
              "\n",
              "      <script>\n",
              "        const buttonEl =\n",
              "          document.querySelector('#df-d86687ef-24d6-4844-9a07-eda7e113a810 button.colab-df-convert');\n",
              "        buttonEl.style.display =\n",
              "          google.colab.kernel.accessAllowed ? 'block' : 'none';\n",
              "\n",
              "        async function convertToInteractive(key) {\n",
              "          const element = document.querySelector('#df-d86687ef-24d6-4844-9a07-eda7e113a810');\n",
              "          const dataTable =\n",
              "            await google.colab.kernel.invokeFunction('convertToInteractive',\n",
              "                                                     [key], {});\n",
              "          if (!dataTable) return;\n",
              "\n",
              "          const docLinkHtml = 'Like what you see? Visit the ' +\n",
              "            '<a target=\"_blank\" href=https://colab.research.google.com/notebooks/data_table.ipynb>data table notebook</a>'\n",
              "            + ' to learn more about interactive tables.';\n",
              "          element.innerHTML = '';\n",
              "          dataTable['output_type'] = 'display_data';\n",
              "          await google.colab.output.renderOutput(dataTable, element);\n",
              "          const docLink = document.createElement('div');\n",
              "          docLink.innerHTML = docLinkHtml;\n",
              "          element.appendChild(docLink);\n",
              "        }\n",
              "      </script>\n",
              "    </div>\n",
              "  </div>\n"
            ]
          },
          "metadata": {},
          "execution_count": 12
        }
      ]
    },
    {
      "cell_type": "code",
      "source": [
        "h = characteristic_length( np.array( df[0] ) )\n",
        "u, u_max = normalize( np.array( df[1] ) )\n",
        "h, u"
      ],
      "metadata": {
        "colab": {
          "base_uri": "https://localhost:8080/"
        },
        "id": "eryQmC_h17jq",
        "outputId": "bd188bfe-214a-4c77-838b-ea768d7d09f4"
      },
      "execution_count": 15,
      "outputs": [
        {
          "output_type": "execute_result",
          "data": {
            "text/plain": [
              "(array([1.        , 0.87963382, 0.7490151 , 0.61143455, 0.51228014,\n",
              "        0.37926578, 0.31314805, 0.24068808]),\n",
              " array([1.        , 0.99576462, 0.98351867, 0.96652475, 0.95887915,\n",
              "        0.94321411, 0.93729706, 0.93195458]))"
            ]
          },
          "metadata": {},
          "execution_count": 15
        }
      ]
    },
    {
      "cell_type": "code",
      "source": [
        "popt, pcov = curve_fit(fit_func, h[4:], u[4:] )#, p0 = np.array([9.94950174e-01, 6.56537013e+03, 2.86395369e+00]) )\n",
        "popt"
      ],
      "metadata": {
        "colab": {
          "base_uri": "https://localhost:8080/"
        },
        "id": "1B7SXB9i2WxM",
        "outputId": "3c59610e-b911-458d-c4c9-9f828edfadea"
      },
      "execution_count": 16,
      "outputs": [
        {
          "output_type": "execute_result",
          "data": {
            "text/plain": [
              "array([0.92441872, 0.13202781, 2.00839916])"
            ]
          },
          "metadata": {},
          "execution_count": 16
        }
      ]
    },
    {
      "cell_type": "code",
      "source": [
        "h0 = np.linspace( 0.0, 1.0, 500 )\n",
        "y0 = fit_func( h0, *popt )\n",
        "y0\n",
        "\n",
        "mpl.plot( h, u, 'o-' );\n",
        "mpl.plot( h0, y0, '-' );\n",
        "popt[0]*u_max"
      ],
      "metadata": {
        "colab": {
          "base_uri": "https://localhost:8080/",
          "height": 439
        },
        "id": "Dtzivq8FG3IR",
        "outputId": "761483dd-7619-414b-99ea-1311465996e6"
      },
      "execution_count": 17,
      "outputs": [
        {
          "output_type": "execute_result",
          "data": {
            "text/plain": [
              "25676079.64200947"
            ]
          },
          "metadata": {},
          "execution_count": 17
        },
        {
          "output_type": "display_data",
          "data": {
            "text/plain": [
              "<Figure size 480x360 with 1 Axes>"
            ],
            "image/svg+xml": "<?xml version=\"1.0\" encoding=\"utf-8\" standalone=\"no\"?>\n<!DOCTYPE svg PUBLIC \"-//W3C//DTD SVG 1.1//EN\"\n  \"http://www.w3.org/Graphics/SVG/1.1/DTD/svg11.dtd\">\n<svg xmlns:xlink=\"http://www.w3.org/1999/xlink\" width=\"406.84pt\" height=\"300.28pt\" viewBox=\"0 0 406.84 300.28\" xmlns=\"http://www.w3.org/2000/svg\" version=\"1.1\">\n <metadata>\n  <rdf:RDF xmlns:dc=\"http://purl.org/dc/elements/1.1/\" xmlns:cc=\"http://creativecommons.org/ns#\" xmlns:rdf=\"http://www.w3.org/1999/02/22-rdf-syntax-ns#\">\n   <cc:Work>\n    <dc:type rdf:resource=\"http://purl.org/dc/dcmitype/StillImage\"/>\n    <dc:date>2023-07-20T09:45:27.046291</dc:date>\n    <dc:format>image/svg+xml</dc:format>\n    <dc:creator>\n     <cc:Agent>\n      <dc:title>Matplotlib v3.7.1, https://matplotlib.org/</dc:title>\n     </cc:Agent>\n    </dc:creator>\n   </cc:Work>\n  </rdf:RDF>\n </metadata>\n <defs>\n  <style type=\"text/css\">*{stroke-linejoin: round; stroke-linecap: butt}</style>\n </defs>\n <g id=\"figure_1\">\n  <g id=\"patch_1\">\n   <path d=\"M 0 300.28 \nL 406.84 300.28 \nL 406.84 0 \nL 0 0 \nz\n\" style=\"fill: #ffffff\"/>\n  </g>\n  <g id=\"axes_1\">\n   <g id=\"patch_2\">\n    <path d=\"M 36.4 276.12 \nL 390.64 276.12 \nL 390.64 13.68 \nL 36.4 13.68 \nz\n\" style=\"fill: #ffffff\"/>\n   </g>\n   <g id=\"line2d_1\">\n    <path d=\"M 390.64 126.154286 \nL 348.001484 134.093806 \nL 301.73111 157.049721 \nL 252.994575 188.906034 \nL 217.870116 203.238262 \nL 170.751109 232.603488 \nL 147.329567 243.695434 \nL 121.661347 253.710284 \n\" clip-path=\"url(#p311178c1e3)\" style=\"fill: none; stroke: #1f77b4; stroke-width: 1.5; stroke-linecap: square\"/>\n    <defs>\n     <path id=\"m459cf857b0\" d=\"M 0 2.5 \nC 0.663008 2.5 1.29895 2.236584 1.767767 1.767767 \nC 2.236584 1.29895 2.5 0.663008 2.5 0 \nC 2.5 -0.663008 2.236584 -1.29895 1.767767 -1.767767 \nC 1.29895 -2.236584 0.663008 -2.5 0 -2.5 \nC -0.663008 -2.5 -1.29895 -2.236584 -1.767767 -1.767767 \nC -2.236584 -1.29895 -2.5 -0.663008 -2.5 0 \nC -2.5 0.663008 -2.236584 1.29895 -1.767767 1.767767 \nC -1.29895 2.236584 -0.663008 2.5 0 2.5 \nz\n\" style=\"stroke: #000000; stroke-width: 0.5\"/>\n    </defs>\n    <g clip-path=\"url(#p311178c1e3)\">\n     <use xlink:href=\"#m459cf857b0\" x=\"390.64\" y=\"126.154286\" style=\"fill: #1f77b4; stroke: #000000; stroke-width: 0.5\"/>\n     <use xlink:href=\"#m459cf857b0\" x=\"348.001484\" y=\"134.093806\" style=\"fill: #1f77b4; stroke: #000000; stroke-width: 0.5\"/>\n     <use xlink:href=\"#m459cf857b0\" x=\"301.73111\" y=\"157.049721\" style=\"fill: #1f77b4; stroke: #000000; stroke-width: 0.5\"/>\n     <use xlink:href=\"#m459cf857b0\" x=\"252.994575\" y=\"188.906034\" style=\"fill: #1f77b4; stroke: #000000; stroke-width: 0.5\"/>\n     <use xlink:href=\"#m459cf857b0\" x=\"217.870116\" y=\"203.238262\" style=\"fill: #1f77b4; stroke: #000000; stroke-width: 0.5\"/>\n     <use xlink:href=\"#m459cf857b0\" x=\"170.751109\" y=\"232.603488\" style=\"fill: #1f77b4; stroke: #000000; stroke-width: 0.5\"/>\n     <use xlink:href=\"#m459cf857b0\" x=\"147.329567\" y=\"243.695434\" style=\"fill: #1f77b4; stroke: #000000; stroke-width: 0.5\"/>\n     <use xlink:href=\"#m459cf857b0\" x=\"121.661347\" y=\"253.710284\" style=\"fill: #1f77b4; stroke: #000000; stroke-width: 0.5\"/>\n    </g>\n   </g>\n   <g id=\"line2d_2\">\n    <path d=\"M 36.4 267.836792 \nL 44.208898 267.720315 \nL 52.017796 267.368167 \nL 59.826693 266.778789 \nL 67.635591 265.951348 \nL 75.444489 264.88526 \nL 83.253387 263.580072 \nL 91.062285 262.035417 \nL 98.871182 260.250983 \nL 106.68008 258.2265 \nL 114.488978 255.96173 \nL 122.297876 253.456459 \nL 130.106774 250.710496 \nL 137.915671 247.723664 \nL 145.724569 244.4958 \nL 153.533467 241.026754 \nL 161.342365 237.316387 \nL 169.151263 233.364567 \nL 176.96016 229.171172 \nL 184.769058 224.736086 \nL 192.577956 220.059198 \nL 200.386854 215.140404 \nL 208.905651 209.498438 \nL 217.424449 203.568344 \nL 225.943246 197.350006 \nL 234.462044 190.84331 \nL 242.980842 184.048152 \nL 251.499639 176.964429 \nL 260.018437 169.592043 \nL 268.537234 161.930899 \nL 277.056032 153.980908 \nL 285.57483 145.741982 \nL 294.093627 137.214035 \nL 303.322325 127.649181 \nL 312.551022 117.744934 \nL 321.779719 107.501197 \nL 331.008417 96.917877 \nL 340.237114 85.994882 \nL 349.465812 74.732124 \nL 358.694509 63.129519 \nL 367.923206 51.186983 \nL 377.861804 37.945539 \nL 387.800401 24.309664 \nL 390.64 20.34124 \nL 390.64 20.34124 \n\" clip-path=\"url(#p311178c1e3)\" style=\"fill: none; stroke: #ff7f0e; stroke-width: 1.5; stroke-linecap: square\"/>\n   </g>\n   <g id=\"patch_3\">\n    <path d=\"M 36.4 276.12 \nL 36.4 13.68 \n\" style=\"fill: none; stroke: #000000; stroke-linejoin: miter; stroke-linecap: square\"/>\n   </g>\n   <g id=\"patch_4\">\n    <path d=\"M 390.64 276.12 \nL 390.64 13.68 \n\" style=\"fill: none; stroke: #000000; stroke-linejoin: miter; stroke-linecap: square\"/>\n   </g>\n   <g id=\"patch_5\">\n    <path d=\"M 36.4 276.12 \nL 390.64 276.12 \n\" style=\"fill: none; stroke: #000000; stroke-linejoin: miter; stroke-linecap: square\"/>\n   </g>\n   <g id=\"patch_6\">\n    <path d=\"M 36.4 13.68 \nL 390.64 13.68 \n\" style=\"fill: none; stroke: #000000; stroke-linejoin: miter; stroke-linecap: square\"/>\n   </g>\n   <g id=\"matplotlib.axis_1\">\n    <g id=\"xtick_1\">\n     <g id=\"line2d_3\">\n      <defs>\n       <path id=\"meb7b6ed173\" d=\"M 0 0 \nL 0 -4 \n\" style=\"stroke: #000000; stroke-width: 0.5\"/>\n      </defs>\n      <g>\n       <use xlink:href=\"#meb7b6ed173\" x=\"36.4\" y=\"276.12\" style=\"stroke: #000000; stroke-width: 0.5\"/>\n      </g>\n     </g>\n     <g id=\"line2d_4\">\n      <defs>\n       <path id=\"m1b8c0c5141\" d=\"M 0 0 \nL 0 4 \n\" style=\"stroke: #000000; stroke-width: 0.5\"/>\n      </defs>\n      <g>\n       <use xlink:href=\"#m1b8c0c5141\" x=\"36.4\" y=\"13.68\" style=\"stroke: #000000; stroke-width: 0.5\"/>\n      </g>\n     </g>\n     <g id=\"text_1\">\n      <!-- 0.0 -->\n      <g transform=\"translate(27.4 289.95475) scale(0.144 -0.144)\">\n       <defs>\n        <path id=\"STIXGeneral-Regular-30\" d=\"M 3046 2112 \nQ 3046 1683 2963 1302 \nQ 2880 922 2717 602 \nQ 2554 282 2266 96 \nQ 1978 -90 1600 -90 \nQ 1210 -90 915 108 \nQ 621 307 461 640 \nQ 301 973 227 1350 \nQ 154 1728 154 2150 \nQ 154 2746 301 3222 \nQ 448 3699 790 4012 \nQ 1133 4326 1626 4326 \nQ 2253 4326 2649 3712 \nQ 3046 3098 3046 2112 \nz\nM 2432 2080 \nQ 2432 3091 2217 3625 \nQ 2003 4160 1587 4160 \nQ 1190 4160 979 3622 \nQ 768 3085 768 2106 \nQ 768 1120 979 598 \nQ 1190 77 1600 77 \nQ 2003 77 2217 598 \nQ 2432 1120 2432 2080 \nz\n\" transform=\"scale(0.015625)\"/>\n        <path id=\"STIXGeneral-Regular-2e\" d=\"M 1158 275 \nQ 1158 134 1052 32 \nQ 947 -70 800 -70 \nQ 653 -70 550 32 \nQ 448 134 448 281 \nQ 448 429 553 534 \nQ 659 640 806 640 \nQ 947 640 1052 531 \nQ 1158 422 1158 275 \nz\n\" transform=\"scale(0.015625)\"/>\n       </defs>\n       <use xlink:href=\"#STIXGeneral-Regular-30\"/>\n       <use xlink:href=\"#STIXGeneral-Regular-2e\" x=\"49.999985\"/>\n       <use xlink:href=\"#STIXGeneral-Regular-30\" x=\"74.999969\"/>\n      </g>\n     </g>\n    </g>\n    <g id=\"xtick_2\">\n     <g id=\"line2d_5\">\n      <g>\n       <use xlink:href=\"#meb7b6ed173\" x=\"107.248\" y=\"276.12\" style=\"stroke: #000000; stroke-width: 0.5\"/>\n      </g>\n     </g>\n     <g id=\"line2d_6\">\n      <g>\n       <use xlink:href=\"#m1b8c0c5141\" x=\"107.248\" y=\"13.68\" style=\"stroke: #000000; stroke-width: 0.5\"/>\n      </g>\n     </g>\n     <g id=\"text_2\">\n      <!-- 0.2 -->\n      <g transform=\"translate(98.248 289.95475) scale(0.144 -0.144)\">\n       <defs>\n        <path id=\"STIXGeneral-Regular-32\" d=\"M 3034 877 \nL 2688 0 \nL 186 0 \nL 186 77 \nL 1325 1286 \nQ 1773 1754 1965 2144 \nQ 2157 2534 2157 2950 \nQ 2157 3379 1920 3616 \nQ 1683 3853 1267 3853 \nQ 922 3853 720 3673 \nQ 518 3494 326 3021 \nL 192 3053 \nQ 301 3648 630 3987 \nQ 960 4326 1523 4326 \nQ 2054 4326 2380 4006 \nQ 2707 3686 2707 3200 \nQ 2707 2477 1888 1613 \nL 832 486 \nL 2330 486 \nQ 2541 486 2665 569 \nQ 2790 653 2944 915 \nL 3034 877 \nz\n\" transform=\"scale(0.015625)\"/>\n       </defs>\n       <use xlink:href=\"#STIXGeneral-Regular-30\"/>\n       <use xlink:href=\"#STIXGeneral-Regular-2e\" x=\"49.999985\"/>\n       <use xlink:href=\"#STIXGeneral-Regular-32\" x=\"74.999969\"/>\n      </g>\n     </g>\n    </g>\n    <g id=\"xtick_3\">\n     <g id=\"line2d_7\">\n      <g>\n       <use xlink:href=\"#meb7b6ed173\" x=\"178.096\" y=\"276.12\" style=\"stroke: #000000; stroke-width: 0.5\"/>\n      </g>\n     </g>\n     <g id=\"line2d_8\">\n      <g>\n       <use xlink:href=\"#m1b8c0c5141\" x=\"178.096\" y=\"13.68\" style=\"stroke: #000000; stroke-width: 0.5\"/>\n      </g>\n     </g>\n     <g id=\"text_3\">\n      <!-- 0.4 -->\n      <g transform=\"translate(169.096 289.95475) scale(0.144 -0.144)\">\n       <defs>\n        <path id=\"STIXGeneral-Regular-34\" d=\"M 3027 1069 \nL 2368 1069 \nL 2368 0 \nL 1869 0 \nL 1869 1069 \nL 77 1069 \nL 77 1478 \nL 2086 4326 \nL 2368 4326 \nL 2368 1478 \nL 3027 1478 \nL 3027 1069 \nz\nM 1869 1478 \nL 1869 3674 \nL 333 1478 \nL 1869 1478 \nz\n\" transform=\"scale(0.015625)\"/>\n       </defs>\n       <use xlink:href=\"#STIXGeneral-Regular-30\"/>\n       <use xlink:href=\"#STIXGeneral-Regular-2e\" x=\"49.999985\"/>\n       <use xlink:href=\"#STIXGeneral-Regular-34\" x=\"74.999969\"/>\n      </g>\n     </g>\n    </g>\n    <g id=\"xtick_4\">\n     <g id=\"line2d_9\">\n      <g>\n       <use xlink:href=\"#meb7b6ed173\" x=\"248.944\" y=\"276.12\" style=\"stroke: #000000; stroke-width: 0.5\"/>\n      </g>\n     </g>\n     <g id=\"line2d_10\">\n      <g>\n       <use xlink:href=\"#m1b8c0c5141\" x=\"248.944\" y=\"13.68\" style=\"stroke: #000000; stroke-width: 0.5\"/>\n      </g>\n     </g>\n     <g id=\"text_4\">\n      <!-- 0.6 -->\n      <g transform=\"translate(239.944 289.95475) scale(0.144 -0.144)\">\n       <defs>\n        <path id=\"STIXGeneral-Regular-36\" d=\"M 2854 4378 \nL 2867 4275 \nQ 2112 4154 1606 3664 \nQ 1101 3174 973 2451 \nQ 1344 2739 1786 2739 \nQ 2349 2739 2672 2380 \nQ 2995 2022 2995 1402 \nQ 2995 774 2669 378 \nQ 2291 -90 1651 -90 \nQ 870 -90 518 557 \nQ 218 1107 218 1786 \nQ 218 2835 915 3552 \nQ 1312 3962 1731 4131 \nQ 2150 4301 2854 4378 \nz\nM 2419 1203 \nQ 2419 2445 1555 2445 \nQ 1235 2445 1024 2275 \nQ 813 2106 813 1702 \nQ 813 954 1046 522 \nQ 1280 90 1722 90 \nQ 2061 90 2240 394 \nQ 2419 698 2419 1203 \nz\n\" transform=\"scale(0.015625)\"/>\n       </defs>\n       <use xlink:href=\"#STIXGeneral-Regular-30\"/>\n       <use xlink:href=\"#STIXGeneral-Regular-2e\" x=\"49.999985\"/>\n       <use xlink:href=\"#STIXGeneral-Regular-36\" x=\"74.999969\"/>\n      </g>\n     </g>\n    </g>\n    <g id=\"xtick_5\">\n     <g id=\"line2d_11\">\n      <g>\n       <use xlink:href=\"#meb7b6ed173\" x=\"319.792\" y=\"276.12\" style=\"stroke: #000000; stroke-width: 0.5\"/>\n      </g>\n     </g>\n     <g id=\"line2d_12\">\n      <g>\n       <use xlink:href=\"#m1b8c0c5141\" x=\"319.792\" y=\"13.68\" style=\"stroke: #000000; stroke-width: 0.5\"/>\n      </g>\n     </g>\n     <g id=\"text_5\">\n      <!-- 0.8 -->\n      <g transform=\"translate(310.792 289.95475) scale(0.144 -0.144)\">\n       <defs>\n        <path id=\"STIXGeneral-Regular-38\" d=\"M 2848 992 \nQ 2848 499 2505 204 \nQ 2163 -90 1587 -90 \nQ 1050 -90 704 204 \nQ 358 499 358 954 \nQ 358 1293 524 1533 \nQ 691 1773 1190 2125 \nQ 710 2522 553 2765 \nQ 397 3008 397 3328 \nQ 397 3782 745 4054 \nQ 1094 4326 1638 4326 \nQ 2106 4326 2410 4060 \nQ 2714 3795 2714 3411 \nQ 2714 3059 2531 2848 \nQ 2349 2637 1856 2374 \nQ 2432 1990 2640 1689 \nQ 2848 1389 2848 992 \nz\nM 2272 3411 \nQ 2272 3744 2086 3945 \nQ 1901 4147 1574 4147 \nQ 1248 4147 1059 3977 \nQ 870 3808 870 3513 \nQ 870 3219 1059 2979 \nQ 1248 2739 1670 2490 \nQ 1997 2682 2134 2896 \nQ 2272 3110 2272 3411 \nz\nM 1734 1741 \nL 1357 1997 \nQ 1075 1766 960 1545 \nQ 845 1325 845 1011 \nQ 845 576 1065 333 \nQ 1286 90 1658 90 \nQ 1971 90 2166 285 \nQ 2362 480 2362 794 \nQ 2362 1082 2214 1299 \nQ 2067 1517 1734 1741 \nz\n\" transform=\"scale(0.015625)\"/>\n       </defs>\n       <use xlink:href=\"#STIXGeneral-Regular-30\"/>\n       <use xlink:href=\"#STIXGeneral-Regular-2e\" x=\"49.999985\"/>\n       <use xlink:href=\"#STIXGeneral-Regular-38\" x=\"74.999969\"/>\n      </g>\n     </g>\n    </g>\n    <g id=\"xtick_6\">\n     <g id=\"line2d_13\">\n      <g>\n       <use xlink:href=\"#meb7b6ed173\" x=\"390.64\" y=\"276.12\" style=\"stroke: #000000; stroke-width: 0.5\"/>\n      </g>\n     </g>\n     <g id=\"line2d_14\">\n      <g>\n       <use xlink:href=\"#m1b8c0c5141\" x=\"390.64\" y=\"13.68\" style=\"stroke: #000000; stroke-width: 0.5\"/>\n      </g>\n     </g>\n     <g id=\"text_6\">\n      <!-- 1.0 -->\n      <g transform=\"translate(381.64 289.95475) scale(0.144 -0.144)\">\n       <defs>\n        <path id=\"STIXGeneral-Regular-31\" d=\"M 2522 0 \nL 755 0 \nL 755 96 \nQ 1107 115 1235 227 \nQ 1363 339 1363 608 \nL 1363 3482 \nQ 1363 3795 1171 3795 \nQ 1082 3795 883 3718 \nL 710 3654 \nL 710 3744 \nL 1856 4326 \nL 1914 4307 \nL 1914 486 \nQ 1914 275 2042 185 \nQ 2170 96 2522 96 \nL 2522 0 \nz\n\" transform=\"scale(0.015625)\"/>\n       </defs>\n       <use xlink:href=\"#STIXGeneral-Regular-31\"/>\n       <use xlink:href=\"#STIXGeneral-Regular-2e\" x=\"49.999985\"/>\n       <use xlink:href=\"#STIXGeneral-Regular-30\" x=\"74.999969\"/>\n      </g>\n     </g>\n    </g>\n   </g>\n   <g id=\"matplotlib.axis_2\">\n    <g id=\"ytick_1\">\n     <g id=\"line2d_15\">\n      <defs>\n       <path id=\"mdd3a44a2e8\" d=\"M 0 0 \nL 4 0 \n\" style=\"stroke: #000000; stroke-width: 0.5\"/>\n      </defs>\n      <g>\n       <use xlink:href=\"#mdd3a44a2e8\" x=\"36.4\" y=\"276.12\" style=\"stroke: #000000; stroke-width: 0.5\"/>\n      </g>\n     </g>\n     <g id=\"line2d_16\">\n      <defs>\n       <path id=\"mc75b2ec672\" d=\"M 0 0 \nL -4 0 \n\" style=\"stroke: #000000; stroke-width: 0.5\"/>\n      </defs>\n      <g>\n       <use xlink:href=\"#mc75b2ec672\" x=\"390.64\" y=\"276.12\" style=\"stroke: #000000; stroke-width: 0.5\"/>\n      </g>\n     </g>\n     <g id=\"text_7\">\n      <!-- 0.92 -->\n      <g transform=\"translate(7.2 279.47475) scale(0.144 -0.144)\">\n       <defs>\n        <path id=\"STIXGeneral-Regular-39\" d=\"M 378 -141 \nL 358 -13 \nQ 1094 115 1603 608 \nQ 2112 1101 2304 1882 \nQ 1933 1517 1344 1517 \nQ 826 1517 509 1875 \nQ 192 2234 192 2816 \nQ 192 3462 573 3894 \nQ 954 4326 1523 4326 \nQ 2131 4326 2528 3840 \nQ 2938 3328 2938 2522 \nQ 2938 1958 2742 1462 \nQ 2547 966 2170 621 \nQ 1773 262 1395 105 \nQ 1018 -51 378 -141 \nz\nM 2317 2272 \nL 2317 2522 \nQ 2317 4147 1472 4147 \nQ 1171 4147 1005 3930 \nQ 909 3802 845 3546 \nQ 781 3290 781 3034 \nQ 781 2464 995 2128 \nQ 1210 1792 1568 1792 \nQ 1824 1792 2070 1917 \nQ 2317 2042 2317 2272 \nz\n\" transform=\"scale(0.015625)\"/>\n       </defs>\n       <use xlink:href=\"#STIXGeneral-Regular-30\"/>\n       <use xlink:href=\"#STIXGeneral-Regular-2e\" x=\"49.999985\"/>\n       <use xlink:href=\"#STIXGeneral-Regular-39\" x=\"74.999969\"/>\n       <use xlink:href=\"#STIXGeneral-Regular-32\" x=\"124.999954\"/>\n      </g>\n     </g>\n    </g>\n    <g id=\"ytick_2\">\n     <g id=\"line2d_17\">\n      <g>\n       <use xlink:href=\"#mdd3a44a2e8\" x=\"36.4\" y=\"238.628571\" style=\"stroke: #000000; stroke-width: 0.5\"/>\n      </g>\n     </g>\n     <g id=\"line2d_18\">\n      <g>\n       <use xlink:href=\"#mc75b2ec672\" x=\"390.64\" y=\"238.628571\" style=\"stroke: #000000; stroke-width: 0.5\"/>\n      </g>\n     </g>\n     <g id=\"text_8\">\n      <!-- 0.94 -->\n      <g transform=\"translate(7.2 241.983321) scale(0.144 -0.144)\">\n       <use xlink:href=\"#STIXGeneral-Regular-30\"/>\n       <use xlink:href=\"#STIXGeneral-Regular-2e\" x=\"49.999985\"/>\n       <use xlink:href=\"#STIXGeneral-Regular-39\" x=\"74.999969\"/>\n       <use xlink:href=\"#STIXGeneral-Regular-34\" x=\"124.999954\"/>\n      </g>\n     </g>\n    </g>\n    <g id=\"ytick_3\">\n     <g id=\"line2d_19\">\n      <g>\n       <use xlink:href=\"#mdd3a44a2e8\" x=\"36.4\" y=\"201.137143\" style=\"stroke: #000000; stroke-width: 0.5\"/>\n      </g>\n     </g>\n     <g id=\"line2d_20\">\n      <g>\n       <use xlink:href=\"#mc75b2ec672\" x=\"390.64\" y=\"201.137143\" style=\"stroke: #000000; stroke-width: 0.5\"/>\n      </g>\n     </g>\n     <g id=\"text_9\">\n      <!-- 0.96 -->\n      <g transform=\"translate(7.2 204.491893) scale(0.144 -0.144)\">\n       <use xlink:href=\"#STIXGeneral-Regular-30\"/>\n       <use xlink:href=\"#STIXGeneral-Regular-2e\" x=\"49.999985\"/>\n       <use xlink:href=\"#STIXGeneral-Regular-39\" x=\"74.999969\"/>\n       <use xlink:href=\"#STIXGeneral-Regular-36\" x=\"124.999954\"/>\n      </g>\n     </g>\n    </g>\n    <g id=\"ytick_4\">\n     <g id=\"line2d_21\">\n      <g>\n       <use xlink:href=\"#mdd3a44a2e8\" x=\"36.4\" y=\"163.645714\" style=\"stroke: #000000; stroke-width: 0.5\"/>\n      </g>\n     </g>\n     <g id=\"line2d_22\">\n      <g>\n       <use xlink:href=\"#mc75b2ec672\" x=\"390.64\" y=\"163.645714\" style=\"stroke: #000000; stroke-width: 0.5\"/>\n      </g>\n     </g>\n     <g id=\"text_10\">\n      <!-- 0.98 -->\n      <g transform=\"translate(7.2 167.000464) scale(0.144 -0.144)\">\n       <use xlink:href=\"#STIXGeneral-Regular-30\"/>\n       <use xlink:href=\"#STIXGeneral-Regular-2e\" x=\"49.999985\"/>\n       <use xlink:href=\"#STIXGeneral-Regular-39\" x=\"74.999969\"/>\n       <use xlink:href=\"#STIXGeneral-Regular-38\" x=\"124.999954\"/>\n      </g>\n     </g>\n    </g>\n    <g id=\"ytick_5\">\n     <g id=\"line2d_23\">\n      <g>\n       <use xlink:href=\"#mdd3a44a2e8\" x=\"36.4\" y=\"126.154286\" style=\"stroke: #000000; stroke-width: 0.5\"/>\n      </g>\n     </g>\n     <g id=\"line2d_24\">\n      <g>\n       <use xlink:href=\"#mc75b2ec672\" x=\"390.64\" y=\"126.154286\" style=\"stroke: #000000; stroke-width: 0.5\"/>\n      </g>\n     </g>\n     <g id=\"text_11\">\n      <!-- 1.00 -->\n      <g transform=\"translate(7.2 129.509036) scale(0.144 -0.144)\">\n       <use xlink:href=\"#STIXGeneral-Regular-31\"/>\n       <use xlink:href=\"#STIXGeneral-Regular-2e\" x=\"49.999985\"/>\n       <use xlink:href=\"#STIXGeneral-Regular-30\" x=\"74.999969\"/>\n       <use xlink:href=\"#STIXGeneral-Regular-30\" x=\"124.999954\"/>\n      </g>\n     </g>\n    </g>\n    <g id=\"ytick_6\">\n     <g id=\"line2d_25\">\n      <g>\n       <use xlink:href=\"#mdd3a44a2e8\" x=\"36.4\" y=\"88.662857\" style=\"stroke: #000000; stroke-width: 0.5\"/>\n      </g>\n     </g>\n     <g id=\"line2d_26\">\n      <g>\n       <use xlink:href=\"#mc75b2ec672\" x=\"390.64\" y=\"88.662857\" style=\"stroke: #000000; stroke-width: 0.5\"/>\n      </g>\n     </g>\n     <g id=\"text_12\">\n      <!-- 1.02 -->\n      <g transform=\"translate(7.2 92.017607) scale(0.144 -0.144)\">\n       <use xlink:href=\"#STIXGeneral-Regular-31\"/>\n       <use xlink:href=\"#STIXGeneral-Regular-2e\" x=\"49.999985\"/>\n       <use xlink:href=\"#STIXGeneral-Regular-30\" x=\"74.999969\"/>\n       <use xlink:href=\"#STIXGeneral-Regular-32\" x=\"124.999954\"/>\n      </g>\n     </g>\n    </g>\n    <g id=\"ytick_7\">\n     <g id=\"line2d_27\">\n      <g>\n       <use xlink:href=\"#mdd3a44a2e8\" x=\"36.4\" y=\"51.171429\" style=\"stroke: #000000; stroke-width: 0.5\"/>\n      </g>\n     </g>\n     <g id=\"line2d_28\">\n      <g>\n       <use xlink:href=\"#mc75b2ec672\" x=\"390.64\" y=\"51.171429\" style=\"stroke: #000000; stroke-width: 0.5\"/>\n      </g>\n     </g>\n     <g id=\"text_13\">\n      <!-- 1.04 -->\n      <g transform=\"translate(7.2 54.526179) scale(0.144 -0.144)\">\n       <use xlink:href=\"#STIXGeneral-Regular-31\"/>\n       <use xlink:href=\"#STIXGeneral-Regular-2e\" x=\"49.999985\"/>\n       <use xlink:href=\"#STIXGeneral-Regular-30\" x=\"74.999969\"/>\n       <use xlink:href=\"#STIXGeneral-Regular-34\" x=\"124.999954\"/>\n      </g>\n     </g>\n    </g>\n    <g id=\"ytick_8\">\n     <g id=\"line2d_29\">\n      <g>\n       <use xlink:href=\"#mdd3a44a2e8\" x=\"36.4\" y=\"13.68\" style=\"stroke: #000000; stroke-width: 0.5\"/>\n      </g>\n     </g>\n     <g id=\"line2d_30\">\n      <g>\n       <use xlink:href=\"#mc75b2ec672\" x=\"390.64\" y=\"13.68\" style=\"stroke: #000000; stroke-width: 0.5\"/>\n      </g>\n     </g>\n     <g id=\"text_14\">\n      <!-- 1.06 -->\n      <g transform=\"translate(7.2 17.03475) scale(0.144 -0.144)\">\n       <use xlink:href=\"#STIXGeneral-Regular-31\"/>\n       <use xlink:href=\"#STIXGeneral-Regular-2e\" x=\"49.999985\"/>\n       <use xlink:href=\"#STIXGeneral-Regular-30\" x=\"74.999969\"/>\n       <use xlink:href=\"#STIXGeneral-Regular-36\" x=\"124.999954\"/>\n      </g>\n     </g>\n    </g>\n   </g>\n  </g>\n </g>\n <defs>\n  <clipPath id=\"p311178c1e3\">\n   <rect x=\"36.4\" y=\"13.68\" width=\"354.24\" height=\"262.44\"/>\n  </clipPath>\n </defs>\n</svg>\n"
          },
          "metadata": {}
        }
      ]
    },
    {
      "cell_type": "code",
      "source": [],
      "metadata": {
        "id": "7XPsnLC3pea7"
      },
      "execution_count": null,
      "outputs": []
    }
  ]
}